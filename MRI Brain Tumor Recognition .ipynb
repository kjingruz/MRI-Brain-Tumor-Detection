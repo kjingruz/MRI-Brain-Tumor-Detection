{
 "cells": [
  {
   "cell_type": "code",
   "execution_count": 1,
   "id": "3282b792",
   "metadata": {},
   "outputs": [
    {
     "name": "stdout",
     "output_type": "stream",
     "text": [
      "Found 5712 images belonging to 4 classes.\n",
      "Found 1311 images belonging to 4 classes.\n",
      "Downloading data from https://storage.googleapis.com/tensorflow/keras-applications/xception/xception_weights_tf_dim_ordering_tf_kernels_notop.h5\n",
      "\u001b[1m83683744/83683744\u001b[0m \u001b[32m━━━━━━━━━━━━━━━━━━━━\u001b[0m\u001b[37m\u001b[0m \u001b[1m25s\u001b[0m 0us/step\n",
      "Epoch 1/10\n"
     ]
    },
    {
     "name": "stderr",
     "output_type": "stream",
     "text": [
      "/Users/kjingruz/anaconda3/lib/python3.11/site-packages/keras/src/trainers/data_adapters/py_dataset_adapter.py:120: UserWarning: Your `PyDataset` class should call `super().__init__(**kwargs)` in its constructor. `**kwargs` can include `workers`, `use_multiprocessing`, `max_queue_size`. Do not pass these arguments to `fit()`, as they will be ignored.\n",
      "  self._warn_if_super_not_called()\n"
     ]
    },
    {
     "name": "stdout",
     "output_type": "stream",
     "text": [
      "\u001b[1m179/179\u001b[0m \u001b[32m━━━━━━━━━━━━━━━━━━━━\u001b[0m\u001b[37m\u001b[0m \u001b[1m1154s\u001b[0m 6s/step - accuracy: 0.7611 - loss: 0.6999 - precision: 0.8394 - recall: 0.6397 - val_accuracy: 0.8589 - val_loss: 0.3354 - val_precision: 0.8617 - val_recall: 0.8505\n",
      "Epoch 2/10\n",
      "\u001b[1m179/179\u001b[0m \u001b[32m━━━━━━━━━━━━━━━━━━━━\u001b[0m\u001b[37m\u001b[0m \u001b[1m1125s\u001b[0m 6s/step - accuracy: 0.9803 - loss: 0.0617 - precision: 0.9807 - recall: 0.9773 - val_accuracy: 0.9252 - val_loss: 0.2394 - val_precision: 0.9326 - val_recall: 0.9184\n",
      "Epoch 3/10\n",
      "\u001b[1m179/179\u001b[0m \u001b[32m━━━━━━━━━━━━━━━━━━━━\u001b[0m\u001b[37m\u001b[0m \u001b[1m1147s\u001b[0m 6s/step - accuracy: 0.9893 - loss: 0.0315 - precision: 0.9903 - recall: 0.9890 - val_accuracy: 0.9756 - val_loss: 0.0779 - val_precision: 0.9763 - val_recall: 0.9741\n",
      "Epoch 4/10\n",
      "\u001b[1m179/179\u001b[0m \u001b[32m━━━━━━━━━━━━━━━━━━━━\u001b[0m\u001b[37m\u001b[0m \u001b[1m1146s\u001b[0m 6s/step - accuracy: 0.9935 - loss: 0.0166 - precision: 0.9935 - recall: 0.9933 - val_accuracy: 0.9870 - val_loss: 0.0472 - val_precision: 0.9870 - val_recall: 0.9870\n",
      "Epoch 5/10\n",
      "\u001b[1m179/179\u001b[0m \u001b[32m━━━━━━━━━━━━━━━━━━━━\u001b[0m\u001b[37m\u001b[0m \u001b[1m1120s\u001b[0m 6s/step - accuracy: 0.9944 - loss: 0.0141 - precision: 0.9947 - recall: 0.9944 - val_accuracy: 0.9947 - val_loss: 0.0248 - val_precision: 0.9947 - val_recall: 0.9947\n",
      "Epoch 6/10\n",
      "\u001b[1m179/179\u001b[0m \u001b[32m━━━━━━━━━━━━━━━━━━━━\u001b[0m\u001b[37m\u001b[0m \u001b[1m1106s\u001b[0m 6s/step - accuracy: 0.9959 - loss: 0.0180 - precision: 0.9959 - recall: 0.9956 - val_accuracy: 0.9886 - val_loss: 0.0567 - val_precision: 0.9886 - val_recall: 0.9886\n",
      "Epoch 7/10\n",
      "\u001b[1m179/179\u001b[0m \u001b[32m━━━━━━━━━━━━━━━━━━━━\u001b[0m\u001b[37m\u001b[0m \u001b[1m1063s\u001b[0m 6s/step - accuracy: 0.9974 - loss: 0.0063 - precision: 0.9974 - recall: 0.9974 - val_accuracy: 0.9908 - val_loss: 0.0219 - val_precision: 0.9908 - val_recall: 0.9908\n",
      "Epoch 8/10\n",
      "\u001b[1m179/179\u001b[0m \u001b[32m━━━━━━━━━━━━━━━━━━━━\u001b[0m\u001b[37m\u001b[0m \u001b[1m1066s\u001b[0m 6s/step - accuracy: 0.9978 - loss: 0.0100 - precision: 0.9978 - recall: 0.9978 - val_accuracy: 0.9764 - val_loss: 0.1398 - val_precision: 0.9764 - val_recall: 0.9764\n",
      "Epoch 9/10\n",
      "\u001b[1m179/179\u001b[0m \u001b[32m━━━━━━━━━━━━━━━━━━━━\u001b[0m\u001b[37m\u001b[0m \u001b[1m1064s\u001b[0m 6s/step - accuracy: 0.9974 - loss: 0.0079 - precision: 0.9974 - recall: 0.9972 - val_accuracy: 0.9916 - val_loss: 0.0318 - val_precision: 0.9916 - val_recall: 0.9916\n",
      "Epoch 10/10\n",
      "\u001b[1m179/179\u001b[0m \u001b[32m━━━━━━━━━━━━━━━━━━━━\u001b[0m\u001b[37m\u001b[0m \u001b[1m1084s\u001b[0m 6s/step - accuracy: 0.9958 - loss: 0.0196 - precision: 0.9958 - recall: 0.9957 - val_accuracy: 0.9870 - val_loss: 0.0512 - val_precision: 0.9870 - val_recall: 0.9870\n",
      "\u001b[1m179/179\u001b[0m \u001b[32m━━━━━━━━━━━━━━━━━━━━\u001b[0m\u001b[37m\u001b[0m \u001b[1m213s\u001b[0m 1s/step - accuracy: 0.9944 - loss: 0.0220 - precision: 0.9944 - recall: 0.9940\n",
      "\u001b[1m41/41\u001b[0m \u001b[32m━━━━━━━━━━━━━━━━━━━━\u001b[0m\u001b[37m\u001b[0m \u001b[1m49s\u001b[0m 1s/step - accuracy: 0.9745 - loss: 0.0959 - precision: 0.9745 - recall: 0.9745\n",
      "Train Accuracy: 99.44%\n",
      "Test Accuracy: 98.70%\n",
      "\u001b[1m41/41\u001b[0m \u001b[32m━━━━━━━━━━━━━━━━━━━━\u001b[0m\u001b[37m\u001b[0m \u001b[1m49s\u001b[0m 1s/step\n",
      "              precision    recall  f1-score   support\n",
      "\n",
      "           0       1.00      0.95      0.98       300\n",
      "           1       0.97      0.99      0.98       306\n",
      "           2       1.00      1.00      1.00       405\n",
      "           3       0.98      1.00      0.99       300\n",
      "\n",
      "    accuracy                           0.99      1311\n",
      "   macro avg       0.99      0.99      0.99      1311\n",
      "weighted avg       0.99      0.99      0.99      1311\n",
      "\n"
     ]
    },
    {
     "data": {
      "image/png": "[encoded data removed]",
      "text/plain": [
       "<Figure size 640x480 with 2 Axes>"
      ]
     },
     "metadata": {},
     "output_type": "display_data"
    }
   ],
   "source": [
    "from tensorflow.keras.applications import Xception\n",
    "from tensorflow.keras.layers import Input, Flatten, Dropout, Dense\n",
    "from tensorflow.keras.models import Sequential\n",
    "from tensorflow.keras.optimizers import Adamax\n",
    "from tensorflow.keras.metrics import Precision, Recall\n",
    "from tensorflow.keras.preprocessing.image import ImageDataGenerator\n",
    "import numpy as np\n",
    "import matplotlib.pyplot as plt\n",
    "from sklearn.metrics import classification_report, confusion_matrix\n",
    "import seaborn as sns\n",
    "\n",
    "# Define the paths\n",
    "train_path = './training'\n",
    "test_path = './testing'\n",
    "\n",
    "# Set the batch size and image size\n",
    "batch_size = 32\n",
    "img_size = (299, 299)\n",
    "\n",
    "# Prepare ImageDataGenerators\n",
    "_gen = ImageDataGenerator(rescale=1/255, brightness_range=(0.8, 1.2))\n",
    "ts_gen = ImageDataGenerator(rescale=1/255)\n",
    "\n",
    "tr_gen = _gen.flow_from_directory(train_path, target_size=img_size, batch_size=batch_size, class_mode='categorical')\n",
    "ts_gen = ts_gen.flow_from_directory(test_path, target_size=img_size, batch_size=batch_size, class_mode='categorical', shuffle=False)\n",
    "\n",
    "# Create the model using Xception as base\n",
    "base_model = Xception(include_top=False, weights=\"imagenet\", input_shape=img_size+(3,), pooling='max')\n",
    "\n",
    "model = Sequential([\n",
    "    base_model,\n",
    "    Flatten(),\n",
    "    Dropout(rate=0.3),\n",
    "    Dense(128, activation='relu'),\n",
    "    Dropout(rate=0.25),\n",
    "    Dense(4, activation='softmax')  # 4 classes\n",
    "])\n",
    "\n",
    "model.compile(Adamax(learning_rate=0.001), loss='categorical_crossentropy', metrics=['accuracy', Precision(), Recall()])\n",
    "\n",
    "# Train the model\n",
    "history = model.fit(tr_gen, epochs=10, validation_data=ts_gen, shuffle=False)\n",
    "\n",
    "# Evaluate the model\n",
    "train_score = model.evaluate(tr_gen)\n",
    "test_score = model.evaluate(ts_gen)\n",
    "\n",
    "print(f\"Train Accuracy: {train_score[1]*100:.2f}%\")\n",
    "print(f\"Test Accuracy: {test_score[1]*100:.2f}%\")\n",
    "\n",
    "# Predict and visualize the confusion matrix\n",
    "predictions = model.predict(ts_gen)\n",
    "predicted_classes = np.argmax(predictions, axis=-1)\n",
    "true_classes = ts_gen.classes\n",
    "cm = confusion_matrix(true_classes, predicted_classes)\n",
    "sns.heatmap(cm, annot=True, fmt='d', cmap='Blues')\n",
    "\n",
    "# Classification report\n",
    "print(classification_report(true_classes, predicted_classes))\n"
   ]
  },
  {
   "cell_type": "code",
   "execution_count": 4,
   "id": "fa260830",
   "metadata": {},
   "outputs": [],
   "source": [
    "\n",
    "# save with a '.keras' extension\n",
    "model.save('MRI_model.keras')  # Saves in the TensorFlow Keras format (recommended)\n"
   ]
  },
  {
   "cell_type": "code",
   "execution_count": null,
   "id": "902cae32",
   "metadata": {},
   "outputs": [],
   "source": [
    "from tensorflow.keras.preprocessing.image import ImageDataGenerator\n",
    "\n",
    "def create_generator(img_path, mask_path, img_size, batch_size):\n",
    "    # Image and Mask Data Generator\n",
    "    data_gen_args = dict(rescale=1./255)\n",
    "    image_datagen = ImageDataGenerator(**data_gen_args)\n",
    "    mask_datagen = ImageDataGenerator(**data_gen_args)\n",
    "\n",
    "    # Provide the same seed and keyword arguments to the flow methods\n",
    "    seed = 1\n",
    "    image_generator = image_datagen.flow_from_directory(\n",
    "        img_path,\n",
    "        class_mode=None,\n",
    "        target_size=img_size,\n",
    "        batch_size=batch_size,\n",
    "        seed=seed,\n",
    "        color_mode='rgb')\n",
    "\n",
    "    mask_generator = mask_datagen.flow_from_directory(\n",
    "        mask_path,\n",
    "        class_mode=None,\n",
    "        target_size=img_size,\n",
    "        batch_size=batch_size,\n",
    "        seed=seed,\n",
    "        color_mode='grayscale')  # Masks are typically in grayscale\n",
    "\n",
    "    # Combine generators into one which yields image and masks\n",
    "    train_generator = zip(image_generator, mask_generator)\n",
    "    return train_generator\n",
    "\n",
    "# Example usage\n",
    "train_path = './training/images'\n",
    "train_masks_path = './training/masks'\n",
    "val_path = './validation/images'\n",
    "val_masks_path = './validation/masks'\n",
    "batch_size = 32\n",
    "img_size = (299, 299)\n",
    "\n",
    "train_gen = create_generator(train_path, train_masks_path, img_size, batch_size)\n",
    "val_gen = create_generator(val_path, val_masks_path, img_size, batch_size)\n",
    "\n",
    "# Now, use these generators in training\n",
    "unet = unet_model(input_size=(299, 299, 3))\n",
    "unet.fit(train_gen, epochs=10, validation_data=val_gen, steps_per_epoch=200, validation_steps=50)\n",
    "unet.save('unet_segmentation_model.h5')\n"
   ]
  },
  {
   "cell_type": "code",
   "execution_count": 5,
   "id": "f0c94b92",
   "metadata": {
    "scrolled": false
   },
   "outputs": [
    {
     "data": {
      "text/html": [
       "<pre style=\"white-space:pre;overflow-x:auto;line-height:normal;font-family:Menlo,'DejaVu Sans Mono',consolas,'Courier New',monospace\"><span style=\"font-weight: bold\">Model: \"functional_2\"</span>\n",
       "</pre>\n"
      ],
      "text/plain": [
       "\u001b[1mModel: \"functional_2\"\u001b[0m\n"
      ]
     },
     "metadata": {},
     "output_type": "display_data"
    },
    {
     "data": {
      "text/html": [
       "<pre style=\"white-space:pre;overflow-x:auto;line-height:normal;font-family:Menlo,'DejaVu Sans Mono',consolas,'Courier New',monospace\">┏━━━━━━━━━━━━━━━━━━━━━━━━━━━━━━━━━┳━━━━━━━━━━━━━━━━━━━━━━━━┳━━━━━━━━━━━━━━━┓\n",
       "┃<span style=\"font-weight: bold\"> Layer (type)                    </span>┃<span style=\"font-weight: bold\"> Output Shape           </span>┃<span style=\"font-weight: bold\">       Param # </span>┃\n",
       "┡━━━━━━━━━━━━━━━━━━━━━━━━━━━━━━━━━╇━━━━━━━━━━━━━━━━━━━━━━━━╇━━━━━━━━━━━━━━━┩\n",
       "│ input_layer_2 (<span style=\"color: #0087ff; text-decoration-color: #0087ff\">InputLayer</span>)      │ (<span style=\"color: #00d7ff; text-decoration-color: #00d7ff\">None</span>, <span style=\"color: #00af00; text-decoration-color: #00af00\">299</span>, <span style=\"color: #00af00; text-decoration-color: #00af00\">299</span>, <span style=\"color: #00af00; text-decoration-color: #00af00\">3</span>)    │             <span style=\"color: #00af00; text-decoration-color: #00af00\">0</span> │\n",
       "├─────────────────────────────────┼────────────────────────┼───────────────┤\n",
       "│ conv2d_4 (<span style=\"color: #0087ff; text-decoration-color: #0087ff\">Conv2D</span>)               │ (<span style=\"color: #00d7ff; text-decoration-color: #00d7ff\">None</span>, <span style=\"color: #00af00; text-decoration-color: #00af00\">299</span>, <span style=\"color: #00af00; text-decoration-color: #00af00\">299</span>, <span style=\"color: #00af00; text-decoration-color: #00af00\">16</span>)   │           <span style=\"color: #00af00; text-decoration-color: #00af00\">448</span> │\n",
       "├─────────────────────────────────┼────────────────────────┼───────────────┤\n",
       "│ max_pooling2d (<span style=\"color: #0087ff; text-decoration-color: #0087ff\">MaxPooling2D</span>)    │ (<span style=\"color: #00d7ff; text-decoration-color: #00d7ff\">None</span>, <span style=\"color: #00af00; text-decoration-color: #00af00\">149</span>, <span style=\"color: #00af00; text-decoration-color: #00af00\">149</span>, <span style=\"color: #00af00; text-decoration-color: #00af00\">16</span>)   │             <span style=\"color: #00af00; text-decoration-color: #00af00\">0</span> │\n",
       "├─────────────────────────────────┼────────────────────────┼───────────────┤\n",
       "│ conv2d_transpose                │ (<span style=\"color: #00d7ff; text-decoration-color: #00d7ff\">None</span>, <span style=\"color: #00af00; text-decoration-color: #00af00\">298</span>, <span style=\"color: #00af00; text-decoration-color: #00af00\">298</span>, <span style=\"color: #00af00; text-decoration-color: #00af00\">16</span>)   │         <span style=\"color: #00af00; text-decoration-color: #00af00\">1,040</span> │\n",
       "│ (<span style=\"color: #0087ff; text-decoration-color: #0087ff\">Conv2DTranspose</span>)               │                        │               │\n",
       "├─────────────────────────────────┼────────────────────────┼───────────────┤\n",
       "│ conv2d_5 (<span style=\"color: #0087ff; text-decoration-color: #0087ff\">Conv2D</span>)               │ (<span style=\"color: #00d7ff; text-decoration-color: #00d7ff\">None</span>, <span style=\"color: #00af00; text-decoration-color: #00af00\">298</span>, <span style=\"color: #00af00; text-decoration-color: #00af00\">298</span>, <span style=\"color: #00af00; text-decoration-color: #00af00\">16</span>)   │         <span style=\"color: #00af00; text-decoration-color: #00af00\">2,320</span> │\n",
       "├─────────────────────────────────┼────────────────────────┼───────────────┤\n",
       "│ conv2d_6 (<span style=\"color: #0087ff; text-decoration-color: #0087ff\">Conv2D</span>)               │ (<span style=\"color: #00d7ff; text-decoration-color: #00d7ff\">None</span>, <span style=\"color: #00af00; text-decoration-color: #00af00\">298</span>, <span style=\"color: #00af00; text-decoration-color: #00af00\">298</span>, <span style=\"color: #00af00; text-decoration-color: #00af00\">1</span>)    │            <span style=\"color: #00af00; text-decoration-color: #00af00\">17</span> │\n",
       "└─────────────────────────────────┴────────────────────────┴───────────────┘\n",
       "</pre>\n"
      ],
      "text/plain": [
       "┏━━━━━━━━━━━━━━━━━━━━━━━━━━━━━━━━━┳━━━━━━━━━━━━━━━━━━━━━━━━┳━━━━━━━━━━━━━━━┓\n",
       "┃\u001b[1m \u001b[0m\u001b[1mLayer (type)                   \u001b[0m\u001b[1m \u001b[0m┃\u001b[1m \u001b[0m\u001b[1mOutput Shape          \u001b[0m\u001b[1m \u001b[0m┃\u001b[1m \u001b[0m\u001b[1m      Param #\u001b[0m\u001b[1m \u001b[0m┃\n",
       "┡━━━━━━━━━━━━━━━━━━━━━━━━━━━━━━━━━╇━━━━━━━━━━━━━━━━━━━━━━━━╇━━━━━━━━━━━━━━━┩\n",
       "│ input_layer_2 (\u001b[38;5;33mInputLayer\u001b[0m)      │ (\u001b[38;5;45mNone\u001b[0m, \u001b[38;5;34m299\u001b[0m, \u001b[38;5;34m299\u001b[0m, \u001b[38;5;34m3\u001b[0m)    │             \u001b[38;5;34m0\u001b[0m │\n",
       "├─────────────────────────────────┼────────────────────────┼───────────────┤\n",
       "│ conv2d_4 (\u001b[38;5;33mConv2D\u001b[0m)               │ (\u001b[38;5;45mNone\u001b[0m, \u001b[38;5;34m299\u001b[0m, \u001b[38;5;34m299\u001b[0m, \u001b[38;5;34m16\u001b[0m)   │           \u001b[38;5;34m448\u001b[0m │\n",
       "├─────────────────────────────────┼────────────────────────┼───────────────┤\n",
       "│ max_pooling2d (\u001b[38;5;33mMaxPooling2D\u001b[0m)    │ (\u001b[38;5;45mNone\u001b[0m, \u001b[38;5;34m149\u001b[0m, \u001b[38;5;34m149\u001b[0m, \u001b[38;5;34m16\u001b[0m)   │             \u001b[38;5;34m0\u001b[0m │\n",
       "├─────────────────────────────────┼────────────────────────┼───────────────┤\n",
       "│ conv2d_transpose                │ (\u001b[38;5;45mNone\u001b[0m, \u001b[38;5;34m298\u001b[0m, \u001b[38;5;34m298\u001b[0m, \u001b[38;5;34m16\u001b[0m)   │         \u001b[38;5;34m1,040\u001b[0m │\n",
       "│ (\u001b[38;5;33mConv2DTranspose\u001b[0m)               │                        │               │\n",
       "├─────────────────────────────────┼────────────────────────┼───────────────┤\n",
       "│ conv2d_5 (\u001b[38;5;33mConv2D\u001b[0m)               │ (\u001b[38;5;45mNone\u001b[0m, \u001b[38;5;34m298\u001b[0m, \u001b[38;5;34m298\u001b[0m, \u001b[38;5;34m16\u001b[0m)   │         \u001b[38;5;34m2,320\u001b[0m │\n",
       "├─────────────────────────────────┼────────────────────────┼───────────────┤\n",
       "│ conv2d_6 (\u001b[38;5;33mConv2D\u001b[0m)               │ (\u001b[38;5;45mNone\u001b[0m, \u001b[38;5;34m298\u001b[0m, \u001b[38;5;34m298\u001b[0m, \u001b[38;5;34m1\u001b[0m)    │            \u001b[38;5;34m17\u001b[0m │\n",
       "└─────────────────────────────────┴────────────────────────┴───────────────┘\n"
      ]
     },
     "metadata": {},
     "output_type": "display_data"
    },
    {
     "data": {
      "text/html": [
       "<pre style=\"white-space:pre;overflow-x:auto;line-height:normal;font-family:Menlo,'DejaVu Sans Mono',consolas,'Courier New',monospace\"><span style=\"font-weight: bold\"> Total params: </span><span style=\"color: #00af00; text-decoration-color: #00af00\">3,825</span> (14.94 KB)\n",
       "</pre>\n"
      ],
      "text/plain": [
       "\u001b[1m Total params: \u001b[0m\u001b[38;5;34m3,825\u001b[0m (14.94 KB)\n"
      ]
     },
     "metadata": {},
     "output_type": "display_data"
    },
    {
     "data": {
      "text/html": [
       "<pre style=\"white-space:pre;overflow-x:auto;line-height:normal;font-family:Menlo,'DejaVu Sans Mono',consolas,'Courier New',monospace\"><span style=\"font-weight: bold\"> Trainable params: </span><span style=\"color: #00af00; text-decoration-color: #00af00\">3,825</span> (14.94 KB)\n",
       "</pre>\n"
      ],
      "text/plain": [
       "\u001b[1m Trainable params: \u001b[0m\u001b[38;5;34m3,825\u001b[0m (14.94 KB)\n"
      ]
     },
     "metadata": {},
     "output_type": "display_data"
    },
    {
     "data": {
      "text/html": [
       "<pre style=\"white-space:pre;overflow-x:auto;line-height:normal;font-family:Menlo,'DejaVu Sans Mono',consolas,'Courier New',monospace\"><span style=\"font-weight: bold\"> Non-trainable params: </span><span style=\"color: #00af00; text-decoration-color: #00af00\">0</span> (0.00 B)\n",
       "</pre>\n"
      ],
      "text/plain": [
       "\u001b[1m Non-trainable params: \u001b[0m\u001b[38;5;34m0\u001b[0m (0.00 B)\n"
      ]
     },
     "metadata": {},
     "output_type": "display_data"
    },
    {
     "ename": "NameError",
     "evalue": "name 'seg_train_gen' is not defined",
     "output_type": "error",
     "traceback": [
      "\u001b[0;31m---------------------------------------------------------------------------\u001b[0m",
      "\u001b[0;31mNameError\u001b[0m                                 Traceback (most recent call last)",
      "Cell \u001b[0;32mIn[5], line 28\u001b[0m\n\u001b[1;32m     25\u001b[0m unet\u001b[38;5;241m.\u001b[39msummary()\n\u001b[1;32m     27\u001b[0m \u001b[38;5;66;03m# Train the segmentation model\u001b[39;00m\n\u001b[0;32m---> 28\u001b[0m seg_history \u001b[38;5;241m=\u001b[39m unet\u001b[38;5;241m.\u001b[39mfit(seg_train_gen, epochs\u001b[38;5;241m=\u001b[39m\u001b[38;5;241m10\u001b[39m, validation_data\u001b[38;5;241m=\u001b[39mseg_val_gen, steps_per_epoch\u001b[38;5;241m=\u001b[39m\u001b[38;5;241m200\u001b[39m, validation_steps\u001b[38;5;241m=\u001b[39m\u001b[38;5;241m50\u001b[39m)\n\u001b[1;32m     29\u001b[0m unet\u001b[38;5;241m.\u001b[39msave(\u001b[38;5;124m'\u001b[39m\u001b[38;5;124munet_segmentation_model.h5\u001b[39m\u001b[38;5;124m'\u001b[39m)\n",
      "\u001b[0;31mNameError\u001b[0m: name 'seg_train_gen' is not defined"
     ]
    }
   ],
   "source": [
    "from tensorflow.keras.layers import Conv2D, MaxPooling2D, Conv2DTranspose, concatenate, Input\n",
    "from tensorflow.keras.models import Model\n",
    "from tensorflow.keras.optimizers import Adam\n",
    "\n",
    "def unet_model(input_size=(299, 299, 3)):\n",
    "    inputs = Input(input_size)\n",
    "\n",
    "    # Downsampling\n",
    "    c1 = Conv2D(16, (3, 3), activation='relu', kernel_initializer='he_normal', padding='same')(inputs)\n",
    "    p1 = MaxPooling2D((2, 2))(c1)\n",
    "    # U-Net continues with additional downsampling and then upsampling layers...\n",
    "\n",
    "    # Upsampling\n",
    "    u6 = Conv2DTranspose(16, (2, 2), strides=(2, 2), padding='same')(p1)\n",
    "    c6 = Conv2D(16, (3, 3), activation='relu', kernel_initializer='he_normal', padding='same')(u6)\n",
    "    # Output layer\n",
    "    outputs = Conv2D(1, (1, 1), activation='sigmoid')(c6)\n",
    "\n",
    "    model = Model(inputs=[inputs], outputs=[outputs])\n",
    "    model.compile(optimizer='adam', loss='binary_crossentropy', metrics=['accuracy'])\n",
    "    return model\n",
    "\n",
    "# Assume seg_train_gen and seg_val_gen are set up to yield images and their corresponding masks\n",
    "unet = unet_model()\n",
    "unet.summary()\n",
    "\n",
    "# Train the segmentation model\n",
    "seg_history = unet.fit(seg_train_gen, epochs=10, validation_data=seg_val_gen, steps_per_epoch=200, validation_steps=50)\n",
    "unet.save('unet_segmentation_model.keras')\n"
   ]
  },
  {
   "cell_type": "code",
   "execution_count": null,
   "id": "99ad1a9d",
   "metadata": {},
   "outputs": [],
   "source": [
    "from tensorflow.keras.models import load_model\n",
    "\n",
    "# Load the saved models\n",
    "classification_model = load_model('MRI_model.keras')\n",
    "segmentation_model = load_model('unet_segmentation_model.h5')\n",
    "\n",
    "# Example function to use both models\n",
    "def classify_and_localize(image_path):\n",
    "    import cv2\n",
    "    from tensorflow.keras.preprocessing.image import img_to_array, load_img\n",
    "    import matplotlib.pyplot as plt\n",
    "\n",
    "    # Load and preprocess the image\n",
    "    img = load_img(image_path, target_size=(299, 299))\n",
    "    img_array = img_to_array(img)\n",
    "    img_array = img_array / 255.0\n",
    "    img_array = np.expand_dims(img_array, axis=0)\n",
    "\n",
    "    # Classification\n",
    "    class_prediction = classification_model.predict(img_array)\n",
    "    class_label = np.argmax(class_prediction, axis=1)\n",
    "\n",
    "    # Localization (Segmentation)\n",
    "    seg_prediction = segmentation_model.predict(img_array)\n",
    "    seg_prediction = (seg_prediction > 0.5).astype(np.uint8)  # Threshold the predictions\n",
    "\n",
    "    # Plot results\n",
    "    plt.figure(figsize=(10, 5))\n",
    "    plt.subplot(1, 2, 1)\n",
    "    plt.imshow(img)\n",
    "    plt.title('Original Image')\n",
    "    plt.subplot(1, 2, 2)\n",
    "    plt.imshow(seg_prediction[0, :, :, 0], cmap='gray')\n",
    "    plt.title('Tumor Localization')\n",
    "    plt.show()\n",
    "\n",
    "    return class_label, seg_prediction\n",
    "\n",
    "# Use the function with a new image\n",
    "classify_and_localize('path_to_new_image.jpg')\n"
   ]
  }
 ],
 "metadata": {
  "kernelspec": {
   "display_name": "Python 3 (ipykernel)",
   "language": "python",
   "name": "python3"
  },
  "language_info": {
   "codemirror_mode": {
    "name": "ipython",
    "version": 3
   },
   "file_extension": ".py",
   "mimetype": "text/x-python",
   "name": "python",
   "nbconvert_exporter": "python",
   "pygments_lexer": "ipython3",
   "version": "3.11.5"
  }
 },
 "nbformat": 4,
 "nbformat_minor": 5
}
